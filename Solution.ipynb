{
 "cells": [
  {
   "cell_type": "markdown",
   "metadata": {},
   "source": [
    "# 0. Background"
   ]
  },
  {
   "cell_type": "markdown",
   "metadata": {},
   "source": [
    "In logistics, a route between point A (factory, distribution centre, etc) and point B (customer) can be called a shipping lane. For large buiness, there can be many shipment origins and destinations that may result 100,000+ potential routes.\n",
    "\n",
    "As it is challenging to remember the importance of each lane for the business, I was asked to create a model to categorize a shipping lane into several buckets. For example, shipping lane can be categorized as \"High importance\", \"Medium Importance\", \"Low Importance\" or \"Special\". I was provided with a sample of previously categorized lanes (labelled data points) and potential factors that affected the decisions (features).\n",
    "\n",
    "The workflow was following:\n",
    "\n",
    "Gather data for all routes using SQL.\n",
    "Develop a Machine Learning model based on labelled data using Python.\n",
    "Categorize all routes using the developed model and provide results to the operational team as a csv file.\n",
    "Incorporate the results in existing Power BI reporting and refresh the model/re-apply lane cateogires every 3 month.\n",
    "Note: the data used in the repository is made-up to avoid sharing corporate data. It is based on a real-life business case, so the approach can be applied to any business that is facing the same challenge."
   ]
  },
  {
   "cell_type": "markdown",
   "metadata": {},
   "source": [
    "# 1. Analyse data"
   ]
  },
  {
   "cell_type": "code",
   "execution_count": 1,
   "metadata": {},
   "outputs": [
    {
     "name": "stderr",
     "output_type": "stream",
     "text": [
      "C:\\ProgramData\\Anaconda3\\lib\\site-packages\\sklearn\\ensemble\\weight_boosting.py:29: DeprecationWarning: numpy.core.umath_tests is an internal NumPy module and should not be imported. It will be removed in a future NumPy release.\n",
      "  from numpy.core.umath_tests import inner1d\n"
     ]
    },
    {
     "data": {
      "text/html": [
       "<div>\n",
       "<style scoped>\n",
       "    .dataframe tbody tr th:only-of-type {\n",
       "        vertical-align: middle;\n",
       "    }\n",
       "\n",
       "    .dataframe tbody tr th {\n",
       "        vertical-align: top;\n",
       "    }\n",
       "\n",
       "    .dataframe thead th {\n",
       "        text-align: right;\n",
       "    }\n",
       "</style>\n",
       "<table border=\"1\" class=\"dataframe\">\n",
       "  <thead>\n",
       "    <tr style=\"text-align: right;\">\n",
       "      <th></th>\n",
       "      <th>ProductImportance</th>\n",
       "      <th>CustomerImportance</th>\n",
       "      <th>SpecialCase?</th>\n",
       "      <th>RouteCategory</th>\n",
       "    </tr>\n",
       "    <tr>\n",
       "      <th>Route</th>\n",
       "      <th></th>\n",
       "      <th></th>\n",
       "      <th></th>\n",
       "      <th></th>\n",
       "    </tr>\n",
       "  </thead>\n",
       "  <tbody>\n",
       "    <tr>\n",
       "      <th>1</th>\n",
       "      <td>D</td>\n",
       "      <td>0</td>\n",
       "      <td>No</td>\n",
       "      <td>Low Importance</td>\n",
       "    </tr>\n",
       "    <tr>\n",
       "      <th>2</th>\n",
       "      <td>C</td>\n",
       "      <td>1</td>\n",
       "      <td>No</td>\n",
       "      <td>Medium Importance</td>\n",
       "    </tr>\n",
       "    <tr>\n",
       "      <th>3</th>\n",
       "      <td>C</td>\n",
       "      <td>0</td>\n",
       "      <td>No</td>\n",
       "      <td>Low Importance</td>\n",
       "    </tr>\n",
       "    <tr>\n",
       "      <th>4</th>\n",
       "      <td>E</td>\n",
       "      <td>1</td>\n",
       "      <td>Yes</td>\n",
       "      <td>Special</td>\n",
       "    </tr>\n",
       "    <tr>\n",
       "      <th>5</th>\n",
       "      <td>C</td>\n",
       "      <td>2</td>\n",
       "      <td>No</td>\n",
       "      <td>High Importance</td>\n",
       "    </tr>\n",
       "    <tr>\n",
       "      <th>6</th>\n",
       "      <td>A</td>\n",
       "      <td>2</td>\n",
       "      <td>No</td>\n",
       "      <td>High Importance</td>\n",
       "    </tr>\n",
       "    <tr>\n",
       "      <th>7</th>\n",
       "      <td>D</td>\n",
       "      <td>0</td>\n",
       "      <td>No</td>\n",
       "      <td>Low Importance</td>\n",
       "    </tr>\n",
       "    <tr>\n",
       "      <th>8</th>\n",
       "      <td>E</td>\n",
       "      <td>0</td>\n",
       "      <td>Yes</td>\n",
       "      <td>Special</td>\n",
       "    </tr>\n",
       "    <tr>\n",
       "      <th>9</th>\n",
       "      <td>E</td>\n",
       "      <td>1</td>\n",
       "      <td>No</td>\n",
       "      <td>Medium Importance</td>\n",
       "    </tr>\n",
       "    <tr>\n",
       "      <th>10</th>\n",
       "      <td>B</td>\n",
       "      <td>2</td>\n",
       "      <td>No</td>\n",
       "      <td>High Importance</td>\n",
       "    </tr>\n",
       "  </tbody>\n",
       "</table>\n",
       "</div>"
      ],
      "text/plain": [
       "      ProductImportance  CustomerImportance SpecialCase?      RouteCategory\n",
       "Route                                                                      \n",
       "1                     D                   0           No     Low Importance\n",
       "2                     C                   1           No  Medium Importance\n",
       "3                     C                   0           No     Low Importance\n",
       "4                     E                   1          Yes            Special\n",
       "5                     C                   2           No    High Importance\n",
       "6                     A                   2           No    High Importance\n",
       "7                     D                   0           No     Low Importance\n",
       "8                     E                   0          Yes            Special\n",
       "9                     E                   1           No  Medium Importance\n",
       "10                    B                   2           No    High Importance"
      ]
     },
     "execution_count": 1,
     "metadata": {},
     "output_type": "execute_result"
    }
   ],
   "source": [
    "#import python modules and data\n",
    "import pandas as pd\n",
    "import matplotlib.pyplot as plt\n",
    "\n",
    "from sklearn.model_selection import train_test_split\n",
    "from sklearn.linear_model import LogisticRegression\n",
    "from sklearn.ensemble import RandomForestClassifier\n",
    "from sklearn.model_selection import GridSearchCV\n",
    "from sklearn.metrics import accuracy_score,precision_score,recall_score\n",
    "\n",
    "df_lab=pd.read_csv(\"LabelledInput.csv\", index_col='Route')\n",
    "df_lab['CustomerImportance'] = df_lab['CustomerImportance'] .astype(int)\n",
    "df_lab.head(10)"
   ]
  },
  {
   "cell_type": "code",
   "execution_count": 2,
   "metadata": {},
   "outputs": [
    {
     "name": "stdout",
     "output_type": "stream",
     "text": [
      "Summary: \n",
      "\n",
      "<class 'pandas.core.frame.DataFrame'>\n",
      "Int64Index: 120 entries, 1 to 120\n",
      "Data columns (total 4 columns):\n",
      "ProductImportance     120 non-null object\n",
      "CustomerImportance    120 non-null int32\n",
      "SpecialCase?          120 non-null object\n",
      "RouteCategory         120 non-null object\n",
      "dtypes: int32(1), object(3)\n",
      "memory usage: 4.2+ KB\n"
     ]
    }
   ],
   "source": [
    "#review the dataframe #1\n",
    "print(\"Summary:\",'\\n')\n",
    "df_lab.info()"
   ]
  },
  {
   "cell_type": "code",
   "execution_count": 3,
   "metadata": {},
   "outputs": [
    {
     "name": "stdout",
     "output_type": "stream",
     "text": [
      "RouteCategory/Label values:\n",
      "High Importance      49\n",
      "Medium Importance    32\n",
      "Low Importance       26\n",
      "Special              13\n",
      "Name: RouteCategory, dtype: int64\n",
      "\n",
      "ProductImportance/feature1 values:\n",
      "E    26\n",
      "D    26\n",
      "C    25\n",
      "A    22\n",
      "B    21\n",
      "Name: ProductImportance, dtype: int64\n",
      "\n",
      "CustomerImportance/feature2 values:\n",
      "0    43\n",
      "2    41\n",
      "1    35\n",
      "3     1\n",
      "Name: CustomerImportance, dtype: int64\n",
      "\n",
      "SpecialCase?/feature3 values:\n",
      "No     107\n",
      "Yes     13\n",
      "Name: SpecialCase?, dtype: int64\n"
     ]
    }
   ],
   "source": [
    "#show possible values of features and labels:\n",
    "print(\"RouteCategory/Label values:\")\n",
    "print(df_lab['RouteCategory'].value_counts())\n",
    "print(\"\\nProductImportance/feature1 values:\")\n",
    "print(df_lab['ProductImportance'].value_counts())\n",
    "print(\"\\nCustomerImportance/feature2 values:\")\n",
    "print(df_lab['CustomerImportance'].value_counts())\n",
    "print(\"\\nSpecialCase?/feature3 values:\")\n",
    "print(df_lab['SpecialCase?'].value_counts())"
   ]
  },
  {
   "cell_type": "code",
   "execution_count": 4,
   "metadata": {},
   "outputs": [
    {
     "data": {
      "image/png": "[encoded data removed]",
      "text/plain": [
       "<Figure size 1440x360 with 3 Axes>"
      ]
     },
     "metadata": {
      "needs_background": "light"
     },
     "output_type": "display_data"
    }
   ],
   "source": [
    "#visualise relationship between each feature and label\n",
    "fig, axes=plt.subplots(nrows=1,ncols=3,figsize=(20,5))\n",
    "fig.subplots_adjust(left=None, bottom=None, right=None, top=None, wspace=0.8, hspace=None)\n",
    "axes[0].scatter(df_lab['ProductImportance'],df_lab['RouteCategory'],s=200, marker=\"x\")\n",
    "axes[0].set_title(\"ProductImportance vs RouteCategory\")\n",
    "axes[1].scatter(df_lab['CustomerImportance'],df_lab['RouteCategory'],s=200, marker=\"x\")\n",
    "axes[1].set_title(\"CustomerImportance vs RouteCategory\")\n",
    "axes[2].scatter(df_lab['SpecialCase?'],df_lab['RouteCategory'],s=200, marker=\"x\")\n",
    "axes[2].set_title(\"SpecialCase? vs RouteCategory\")\n",
    "plt.show();"
   ]
  },
  {
   "cell_type": "markdown",
   "metadata": {},
   "source": [
    "Observations: \"Special\" route as exclusive for routes where \"SpecialCase?\" equals to \"Yes\"."
   ]
  },
  {
   "cell_type": "markdown",
   "metadata": {},
   "source": [
    "# 2. Build the model using Logistic regression"
   ]
  },
  {
   "cell_type": "markdown",
   "metadata": {},
   "source": [
    "We are working with categorical & numerical feature and with categorical labels. \n",
    "To ensure the Machine Learning algorith were working with our inputs, we will encode categorical data.  "
   ]
  },
  {
   "cell_type": "code",
   "execution_count": 5,
   "metadata": {},
   "outputs": [
    {
     "data": {
      "text/html": [
       "<div>\n",
       "<style scoped>\n",
       "    .dataframe tbody tr th:only-of-type {\n",
       "        vertical-align: middle;\n",
       "    }\n",
       "\n",
       "    .dataframe tbody tr th {\n",
       "        vertical-align: top;\n",
       "    }\n",
       "\n",
       "    .dataframe thead th {\n",
       "        text-align: right;\n",
       "    }\n",
       "</style>\n",
       "<table border=\"1\" class=\"dataframe\">\n",
       "  <thead>\n",
       "    <tr style=\"text-align: right;\">\n",
       "      <th></th>\n",
       "      <th>CustomerImportance</th>\n",
       "      <th>ProductImportance_A</th>\n",
       "      <th>ProductImportance_B</th>\n",
       "      <th>ProductImportance_C</th>\n",
       "      <th>ProductImportance_D</th>\n",
       "      <th>ProductImportance_E</th>\n",
       "      <th>SpecialCase?_No</th>\n",
       "      <th>SpecialCase?_Yes</th>\n",
       "      <th>RouteCategory_High Importance</th>\n",
       "      <th>RouteCategory_Low Importance</th>\n",
       "      <th>RouteCategory_Medium Importance</th>\n",
       "      <th>RouteCategory_Special</th>\n",
       "    </tr>\n",
       "    <tr>\n",
       "      <th>Route</th>\n",
       "      <th></th>\n",
       "      <th></th>\n",
       "      <th></th>\n",
       "      <th></th>\n",
       "      <th></th>\n",
       "      <th></th>\n",
       "      <th></th>\n",
       "      <th></th>\n",
       "      <th></th>\n",
       "      <th></th>\n",
       "      <th></th>\n",
       "      <th></th>\n",
       "    </tr>\n",
       "  </thead>\n",
       "  <tbody>\n",
       "    <tr>\n",
       "      <th>1</th>\n",
       "      <td>0</td>\n",
       "      <td>0</td>\n",
       "      <td>0</td>\n",
       "      <td>0</td>\n",
       "      <td>1</td>\n",
       "      <td>0</td>\n",
       "      <td>1</td>\n",
       "      <td>0</td>\n",
       "      <td>0</td>\n",
       "      <td>1</td>\n",
       "      <td>0</td>\n",
       "      <td>0</td>\n",
       "    </tr>\n",
       "    <tr>\n",
       "      <th>2</th>\n",
       "      <td>1</td>\n",
       "      <td>0</td>\n",
       "      <td>0</td>\n",
       "      <td>1</td>\n",
       "      <td>0</td>\n",
       "      <td>0</td>\n",
       "      <td>1</td>\n",
       "      <td>0</td>\n",
       "      <td>0</td>\n",
       "      <td>0</td>\n",
       "      <td>1</td>\n",
       "      <td>0</td>\n",
       "    </tr>\n",
       "    <tr>\n",
       "      <th>3</th>\n",
       "      <td>0</td>\n",
       "      <td>0</td>\n",
       "      <td>0</td>\n",
       "      <td>1</td>\n",
       "      <td>0</td>\n",
       "      <td>0</td>\n",
       "      <td>1</td>\n",
       "      <td>0</td>\n",
       "      <td>0</td>\n",
       "      <td>1</td>\n",
       "      <td>0</td>\n",
       "      <td>0</td>\n",
       "    </tr>\n",
       "    <tr>\n",
       "      <th>4</th>\n",
       "      <td>1</td>\n",
       "      <td>0</td>\n",
       "      <td>0</td>\n",
       "      <td>0</td>\n",
       "      <td>0</td>\n",
       "      <td>1</td>\n",
       "      <td>0</td>\n",
       "      <td>1</td>\n",
       "      <td>0</td>\n",
       "      <td>0</td>\n",
       "      <td>0</td>\n",
       "      <td>1</td>\n",
       "    </tr>\n",
       "    <tr>\n",
       "      <th>5</th>\n",
       "      <td>2</td>\n",
       "      <td>0</td>\n",
       "      <td>0</td>\n",
       "      <td>1</td>\n",
       "      <td>0</td>\n",
       "      <td>0</td>\n",
       "      <td>1</td>\n",
       "      <td>0</td>\n",
       "      <td>1</td>\n",
       "      <td>0</td>\n",
       "      <td>0</td>\n",
       "      <td>0</td>\n",
       "    </tr>\n",
       "  </tbody>\n",
       "</table>\n",
       "</div>"
      ],
      "text/plain": [
       "       CustomerImportance  ProductImportance_A  ProductImportance_B  \\\n",
       "Route                                                                 \n",
       "1                       0                    0                    0   \n",
       "2                       1                    0                    0   \n",
       "3                       0                    0                    0   \n",
       "4                       1                    0                    0   \n",
       "5                       2                    0                    0   \n",
       "\n",
       "       ProductImportance_C  ProductImportance_D  ProductImportance_E  \\\n",
       "Route                                                                  \n",
       "1                        0                    1                    0   \n",
       "2                        1                    0                    0   \n",
       "3                        1                    0                    0   \n",
       "4                        0                    0                    1   \n",
       "5                        1                    0                    0   \n",
       "\n",
       "       SpecialCase?_No  SpecialCase?_Yes  RouteCategory_High Importance  \\\n",
       "Route                                                                     \n",
       "1                    1                 0                              0   \n",
       "2                    1                 0                              0   \n",
       "3                    1                 0                              0   \n",
       "4                    0                 1                              0   \n",
       "5                    1                 0                              1   \n",
       "\n",
       "       RouteCategory_Low Importance  RouteCategory_Medium Importance  \\\n",
       "Route                                                                  \n",
       "1                                 1                                0   \n",
       "2                                 0                                1   \n",
       "3                                 1                                0   \n",
       "4                                 0                                0   \n",
       "5                                 0                                0   \n",
       "\n",
       "       RouteCategory_Special  \n",
       "Route                         \n",
       "1                          0  \n",
       "2                          0  \n",
       "3                          0  \n",
       "4                          1  \n",
       "5                          0  "
      ]
     },
     "execution_count": 5,
     "metadata": {},
     "output_type": "execute_result"
    }
   ],
   "source": [
    "#encode categorical data\n",
    "columnsToEncode=df_lab.select_dtypes(include=[object]).columns\n",
    "df_enc = pd.get_dummies(df_lab, columns=columnsToEncode)\n",
    "df_enc.head()"
   ]
  },
  {
   "cell_type": "code",
   "execution_count": 6,
   "metadata": {},
   "outputs": [],
   "source": [
    "#split data into train and test\n",
    "features=df_enc.drop(['RouteCategory_High Importance','RouteCategory_Medium Importance','RouteCategory_Low Importance','RouteCategory_Special'],axis=1)\n",
    "labels=df_enc[['RouteCategory_High Importance','RouteCategory_Medium Importance','RouteCategory_Low Importance','RouteCategory_Special']]\n",
    "X_train, X_test, y_train, y_test=train_test_split(features, labels, test_size=0.3, random_state=1)"
   ]
  },
  {
   "cell_type": "code",
   "execution_count": 7,
   "metadata": {},
   "outputs": [],
   "source": [
    "#build the Logistics regression model function\n",
    "def logar_model(X_train, y_train):\n",
    "    lr=LogisticRegression()\n",
    "    parameters={\n",
    "        \"C\":[0.001,0.005,0.01,0.05,1,5,10,50,100],\n",
    "    }\n",
    "    cv=GridSearchCV(lr,parameters, cv=5)\n",
    "    cv.fit(X_train, y_train)\n",
    "    lr_model=cv.best_estimator_\n",
    "    return lr_model\n",
    "\n",
    "#create the Logistics regression model for each type of lane\n",
    "log_high_model=logar_model(X_train, y_train['RouteCategory_High Importance'])\n",
    "log_med_model=logar_model(X_train, y_train['RouteCategory_Medium Importance'])\n",
    "log_low_model=logar_model(X_train, y_train['RouteCategory_Low Importance'])\n",
    "log_sp_model=logar_model(X_train, y_train['RouteCategory_Special'])"
   ]
  },
  {
   "cell_type": "markdown",
   "metadata": {},
   "source": [
    "# 3. Build the model using Random Forest"
   ]
  },
  {
   "cell_type": "code",
   "execution_count": 8,
   "metadata": {},
   "outputs": [],
   "source": [
    "#build the Random Forest model function\n",
    "def rf_model(X_train, y_train):\n",
    "    rf=RandomForestClassifier()\n",
    "    parameters={\n",
    "    \"n_estimators\":[5,25,125],\n",
    "    \"max_depth\":[2,8,16]\n",
    "    }\n",
    "    cv=GridSearchCV(rf,parameters, cv=5)\n",
    "    cv.fit(X_train, y_train)\n",
    "    rf_model=cv.best_estimator_\n",
    "    return rf_model\n",
    "\n",
    "#create the Random Forest model for each type of lane\n",
    "rf_high_model=rf_model(X_train, y_train['RouteCategory_High Importance'])\n",
    "rf_med_model=rf_model(X_train, y_train['RouteCategory_Medium Importance'])\n",
    "rf_low_model=rf_model(X_train, y_train['RouteCategory_Low Importance'])\n",
    "rf_sp_model=rf_model(X_train, y_train['RouteCategory_Special'])"
   ]
  },
  {
   "cell_type": "markdown",
   "metadata": {},
   "source": [
    "# 4. Compare results of Logistics Regression and Random Forest models"
   ]
  },
  {
   "cell_type": "code",
   "execution_count": 9,
   "metadata": {},
   "outputs": [
    {
     "name": "stdout",
     "output_type": "stream",
     "text": [
      "Logistics Regression results:\n",
      "High Importance route results (accuracy,precision,recall) = (1.0, 1.0, 1.0)\n",
      "Med Importance route results (accuracy,precision,recall) = (0.6944444444444444, 0.5714285714285714, 0.3333333333333333)\n",
      "Low Importance route results (accuracy,precision,recall) = (1.0, 1.0, 1.0)\n",
      "Special Importance route results (accuracy,precision,recall) = (1.0, 1.0, 1.0)\n",
      "\n",
      "Random Forest Regression results:\n",
      "High Importance route results (accuracy,precision,recall) = (1.0, 1.0, 1.0)\n",
      "Med Importance route results (accuracy,precision,recall) = (1.0, 1.0, 1.0)\n",
      "Low Importance route results (accuracy,precision,recall) = (1.0, 1.0, 1.0)\n",
      "Special Importance route results (accuracy,precision,recall) = (1.0, 1.0, 1.0)\n"
     ]
    }
   ],
   "source": [
    "#build \"measure the results\" function\n",
    "def performance_results(model,y_test):  \n",
    "    pred=model.predict(X_test)\n",
    "    accuracy=accuracy_score(y_test,pred)\n",
    "    precision=precision_score(y_test,pred)\n",
    "    recall=recall_score(y_test,pred)\n",
    "    return accuracy,precision,recall\n",
    "\n",
    "#measure the Logistics Regression results for each type of lane\n",
    "print(\"Logistics Regression results:\")\n",
    "print(\"High Importance route results (accuracy,precision,recall) =\", performance_results(log_high_model,y_test['RouteCategory_High Importance']))\n",
    "print(\"Med Importance route results (accuracy,precision,recall) =\", performance_results(log_med_model,y_test['RouteCategory_Medium Importance']))\n",
    "print(\"Low Importance route results (accuracy,precision,recall) =\", performance_results(log_low_model,y_test['RouteCategory_Low Importance']))\n",
    "print(\"Special Importance route results (accuracy,precision,recall) =\", performance_results(log_sp_model,y_test['RouteCategory_Special']))\n",
    "\n",
    "#measure the Random Forest Regression results for each type of lane\n",
    "print(\"\\nRandom Forest Regression results:\")\n",
    "print(\"High Importance route results (accuracy,precision,recall) =\", performance_results(rf_high_model,y_test['RouteCategory_High Importance']))\n",
    "print(\"Med Importance route results (accuracy,precision,recall) =\", performance_results(rf_med_model,y_test['RouteCategory_Medium Importance']))\n",
    "print(\"Low Importance route results (accuracy,precision,recall) =\", performance_results(rf_low_model,y_test['RouteCategory_Low Importance']))\n",
    "print(\"Special Importance route results (accuracy,precision,recall) =\", performance_results(rf_sp_model,y_test['RouteCategory_Special']))"
   ]
  },
  {
   "cell_type": "markdown",
   "metadata": {},
   "source": [
    "Results between both algorithms are the same, except of Medium Importance lane. Logistic regression is underperforming for Medium Importance lane compared to Random Forest"
   ]
  },
  {
   "cell_type": "code",
   "execution_count": 10,
   "metadata": {},
   "outputs": [
    {
     "name": "stdout",
     "output_type": "stream",
     "text": [
      "Logistics Regression model coefficients\n"
     ]
    },
    {
     "data": {
      "image/png": "[encoded data removed]",
      "text/plain": [
       "<Figure size 1440x360 with 4 Axes>"
      ]
     },
     "metadata": {
      "needs_background": "light"
     },
     "output_type": "display_data"
    }
   ],
   "source": [
    "#plot importance on features for Logistic Regression \n",
    "print(\"Logistics Regression model coefficients\")\n",
    "fig, axes=plt.subplots(nrows=1,ncols=4,figsize=(20,5))\n",
    "fig.subplots_adjust(left=None, bottom=None, right=None, top=None, wspace=0.5, hspace=None)\n",
    "axes[0].bar(X_train.columns,log_high_model.coef_[0])\n",
    "axes[0].tick_params(labelrotation=90)\n",
    "axes[0].set_title(\"High Importance lane coefficients\")\n",
    "axes[1].bar(X_train.columns,log_med_model.coef_[0])\n",
    "axes[1].tick_params(labelrotation=90)\n",
    "axes[1].set_title(\"Medium Importance lane coefficients\")\n",
    "axes[2].bar(X_train.columns,log_low_model.coef_[0])\n",
    "axes[2].tick_params(labelrotation=90)\n",
    "axes[2].set_title(\"Low Importance lane coefficients\")\n",
    "axes[3].bar(X_train.columns,log_sp_model.coef_[0])\n",
    "axes[3].tick_params(labelrotation=90)\n",
    "axes[3].set_title(\"Special Importance lane coefficients\")\n",
    "plt.show();"
   ]
  },
  {
   "cell_type": "code",
   "execution_count": 11,
   "metadata": {},
   "outputs": [
    {
     "name": "stdout",
     "output_type": "stream",
     "text": [
      "Logistics Regression model feature importance\n"
     ]
    },
    {
     "data": {
      "image/png": "[encoded data removed]",
      "text/plain": [
       "<Figure size 1440x360 with 4 Axes>"
      ]
     },
     "metadata": {
      "needs_background": "light"
     },
     "output_type": "display_data"
    }
   ],
   "source": [
    "#plot importance on features for Random Forest\n",
    "print(\"Logistics Regression model feature importance\")\n",
    "fig, axes=plt.subplots(nrows=1,ncols=4,figsize=(20,5))\n",
    "fig.subplots_adjust(left=None, bottom=None, right=None, top=None, wspace=0.5, hspace=None)\n",
    "axes[0].bar(X_train.columns,rf_high_model.feature_importances_)\n",
    "axes[0].tick_params(labelrotation=90)\n",
    "axes[0].set_title(\"High Importance lane coefficients\")\n",
    "axes[1].bar(X_train.columns,rf_med_model.feature_importances_)\n",
    "axes[1].tick_params(labelrotation=90)\n",
    "axes[1].set_title(\"Medium Importance lane coefficients\")\n",
    "axes[2].bar(X_train.columns,rf_low_model.feature_importances_)\n",
    "axes[2].tick_params(labelrotation=90)\n",
    "axes[2].set_title(\"Low Importance lane coefficients\")\n",
    "axes[3].bar(X_train.columns,rf_sp_model.feature_importances_)\n",
    "axes[3].tick_params(labelrotation=90)\n",
    "axes[3].set_title(\"Special Importance lane coefficients\")\n",
    "plt.show();"
   ]
  },
  {
   "cell_type": "markdown",
   "metadata": {},
   "source": [
    "# 5. Submit results"
   ]
  },
  {
   "cell_type": "code",
   "execution_count": 13,
   "metadata": {},
   "outputs": [
    {
     "data": {
      "text/html": [
       "<div>\n",
       "<style scoped>\n",
       "    .dataframe tbody tr th:only-of-type {\n",
       "        vertical-align: middle;\n",
       "    }\n",
       "\n",
       "    .dataframe tbody tr th {\n",
       "        vertical-align: top;\n",
       "    }\n",
       "\n",
       "    .dataframe thead th {\n",
       "        text-align: right;\n",
       "    }\n",
       "</style>\n",
       "<table border=\"1\" class=\"dataframe\">\n",
       "  <thead>\n",
       "    <tr style=\"text-align: right;\">\n",
       "      <th></th>\n",
       "      <th>RouteCategory</th>\n",
       "    </tr>\n",
       "    <tr>\n",
       "      <th>Route</th>\n",
       "      <th></th>\n",
       "    </tr>\n",
       "  </thead>\n",
       "  <tbody>\n",
       "    <tr>\n",
       "      <th>1</th>\n",
       "      <td>High Importance</td>\n",
       "    </tr>\n",
       "    <tr>\n",
       "      <th>2</th>\n",
       "      <td>High Importance</td>\n",
       "    </tr>\n",
       "    <tr>\n",
       "      <th>3</th>\n",
       "      <td>Medium Importance</td>\n",
       "    </tr>\n",
       "    <tr>\n",
       "      <th>4</th>\n",
       "      <td>Special</td>\n",
       "    </tr>\n",
       "    <tr>\n",
       "      <th>5</th>\n",
       "      <td>High Importance</td>\n",
       "    </tr>\n",
       "    <tr>\n",
       "      <th>6</th>\n",
       "      <td>Low Importance</td>\n",
       "    </tr>\n",
       "    <tr>\n",
       "      <th>7</th>\n",
       "      <td>Low Importance</td>\n",
       "    </tr>\n",
       "    <tr>\n",
       "      <th>8</th>\n",
       "      <td>Medium Importance</td>\n",
       "    </tr>\n",
       "    <tr>\n",
       "      <th>9</th>\n",
       "      <td>Special</td>\n",
       "    </tr>\n",
       "    <tr>\n",
       "      <th>10</th>\n",
       "      <td>Low Importance</td>\n",
       "    </tr>\n",
       "  </tbody>\n",
       "</table>\n",
       "</div>"
      ],
      "text/plain": [
       "           RouteCategory\n",
       "Route                   \n",
       "1        High Importance\n",
       "2        High Importance\n",
       "3      Medium Importance\n",
       "4                Special\n",
       "5        High Importance\n",
       "6         Low Importance\n",
       "7         Low Importance\n",
       "8      Medium Importance\n",
       "9                Special\n",
       "10        Low Importance"
      ]
     },
     "execution_count": 13,
     "metadata": {},
     "output_type": "execute_result"
    }
   ],
   "source": [
    "#load the Unlabelled data and get it ready for model\n",
    "df_res=pd.read_csv(\"UnlabelledInput.csv\", index_col='Route')\n",
    "df_res['CustomerImportance'] = df_res['CustomerImportance'] .astype(int)\n",
    "columnsToEncode=df_res.select_dtypes(include=[object]).columns\n",
    "df_res = pd.get_dummies(df_res, columns=columnsToEncode)\n",
    "\n",
    "#apply model\n",
    "high_lane_subm=rf_high_model.predict(df_res)\n",
    "med_lane_subm=rf_med_model.predict(df_res)\n",
    "low_lane_subm=rf_low_model.predict(df_res)\n",
    "sp_lane_subm=rf_sp_model.predict(df_res)\n",
    "\n",
    "#add columns with results from out models\n",
    "df_res['RouteCategory_High Importance']=high_lane_subm\n",
    "df_res['RouteCategory_Medium Importance']=med_lane_subm\n",
    "df_res['RouteCategory_Low Importance']=low_lane_subm\n",
    "df_res['RouteCategory_Special']=sp_lane_subm\n",
    "\n",
    "#Merge 4 route columsn into one\n",
    "df_res=df_res[['RouteCategory_High Importance','RouteCategory_Medium Importance','RouteCategory_Low Importance','RouteCategory_Special']].idxmax(axis=1)\n",
    "df_res=df_res.to_frame(name='RouteCategory')\n",
    "df_res['RouteCategory']=df_res['RouteCategory'].apply(lambda x:x.split('_')[1])\n",
    "\n",
    "df_res.to_csv(\"Output.csv\", index=True)\n",
    "df_res.head(10)"
   ]
  },
  {
   "cell_type": "code",
   "execution_count": null,
   "metadata": {},
   "outputs": [],
   "source": []
  }
 ],
 "metadata": {
  "kernelspec": {
   "display_name": "Python 3",
   "language": "python",
   "name": "python3"
  },
  "language_info": {
   "codemirror_mode": {
    "name": "ipython",
    "version": 3
   },
   "file_extension": ".py",
   "mimetype": "text/x-python",
   "name": "python",
   "nbconvert_exporter": "python",
   "pygments_lexer": "ipython3",
   "version": "3.7.0"
  }
 },
 "nbformat": 4,
 "nbformat_minor": 2
}
